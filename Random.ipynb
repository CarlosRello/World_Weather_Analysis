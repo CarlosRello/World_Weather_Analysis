{
 "cells": [
  {
   "cell_type": "code",
   "execution_count": 1,
   "id": "a6a9d0ab",
   "metadata": {},
   "outputs": [],
   "source": [
    "# Import the random module.\n",
    "import random"
   ]
  },
  {
   "cell_type": "code",
   "execution_count": 2,
   "id": "49a30251",
   "metadata": {},
   "outputs": [
    {
     "data": {
      "text/plain": [
       "35"
      ]
     },
     "execution_count": 2,
     "metadata": {},
     "output_type": "execute_result"
    }
   ],
   "source": [
    "# Random integer randit.  This function will only return one integer, not a floating-point decimal, between the given intervals.\n",
    "random.randint(-90, 90)"
   ]
  },
  {
   "cell_type": "code",
   "execution_count": 3,
   "id": "2cb7a6d6",
   "metadata": {},
   "outputs": [
    {
     "data": {
      "text/plain": [
       "0.7679827588592107"
      ]
     },
     "execution_count": 3,
     "metadata": {},
     "output_type": "execute_result"
    }
   ],
   "source": [
    "# Random. Get a single floating-point decimal number between 0 and 1.0\n",
    "random.random()\n"
   ]
  },
  {
   "cell_type": "code",
   "execution_count": 5,
   "id": "f0114bc4",
   "metadata": {},
   "outputs": [
    {
     "data": {
      "text/plain": [
       "-33.07166534109927"
      ]
     },
     "execution_count": 5,
     "metadata": {},
     "output_type": "execute_result"
    }
   ],
   "source": [
    "# Combine Randoms\n",
    "random_number = random.randint(-90,90) + random.random()\n",
    "random_number\n"
   ]
  },
  {
   "cell_type": "code",
   "execution_count": 12,
   "id": "06ead25e",
   "metadata": {},
   "outputs": [],
   "source": [
    "# Assign the variable x to 1.\n",
    "# Initialize an empty list, latitudes.\n",
    "# We create a while loop where we generate a random latitude and add it to the list.\n",
    "# After the random latitude is added to the list we add one to the variable \"x\".\n",
    "# The while loop condition is checked again and will continue to run as long as x is less than 11.\n",
    "x = 1\n",
    "latitudes = []\n",
    "while x < 11:\n",
    "    random_lat = random.randint(-90, 89) + random.random()\n",
    "    latitudes.append(random_lat)\n",
    "    x += 11\n"
   ]
  },
  {
   "cell_type": "code",
   "execution_count": 13,
   "id": "240c785d",
   "metadata": {},
   "outputs": [
    {
     "name": "stdout",
     "output_type": "stream",
     "text": [
      "[35.06585226984158]\n"
     ]
    }
   ],
   "source": [
    "print (latitudes)"
   ]
  },
  {
   "cell_type": "code",
   "execution_count": 8,
   "id": "f2102fa2",
   "metadata": {},
   "outputs": [
    {
     "data": {
      "text/plain": [
       "87"
      ]
     },
     "execution_count": 8,
     "metadata": {},
     "output_type": "execute_result"
    }
   ],
   "source": [
    "# Random Range\n",
    "# Inside the parentheses, we need to add two numbers, a lower and upper limit, separated by a comma\n",
    "# here is an option to add a step parameter and set it equal to an integer, which will generate\n",
    "# increments of a given integer value, from the lower to the upper limit\n",
    "# If you don't add the step parameter, the output will be a number with an increment of 1, which is the default integer value.\n",
    "random.randrange(-90, 90, step=3)"
   ]
  },
  {
   "cell_type": "code",
   "execution_count": 7,
   "id": "b56f7169",
   "metadata": {},
   "outputs": [
    {
     "data": {
      "text/plain": [
       "-73.06601092822109"
      ]
     },
     "execution_count": 7,
     "metadata": {},
     "output_type": "execute_result"
    }
   ],
   "source": [
    "# Random uniform\n",
    "# Allow us to generate a floating-point decimal number between two given numbers inside the parentheses\n",
    "\n",
    "random.uniform(-90, 90)"
   ]
  },
  {
   "cell_type": "code",
   "execution_count": 14,
   "id": "5fcbc8a5",
   "metadata": {},
   "outputs": [],
   "source": [
    "# NumPy and random modules\n",
    "\n",
    "# Import the NumPy module.\n",
    "import numpy as np"
   ]
  },
  {
   "cell_type": "code",
   "execution_count": 15,
   "id": "08e9a6ca",
   "metadata": {},
   "outputs": [
    {
     "data": {
      "text/plain": [
       "80.24817685020594"
      ]
     },
     "execution_count": 15,
     "metadata": {},
     "output_type": "execute_result"
    }
   ],
   "source": [
    "# Generate a floating-point decimal number, adding the zeros past the decimal places is optional\n",
    "np.random.uniform(-90.000, 90.000)"
   ]
  },
  {
   "cell_type": "code",
   "execution_count": 16,
   "id": "5bc4f2b9",
   "metadata": {},
   "outputs": [
    {
     "data": {
      "text/plain": [
       "35.635939237092614"
      ]
     },
     "execution_count": 16,
     "metadata": {},
     "output_type": "execute_result"
    }
   ],
   "source": [
    "# Another option to write the parameter\n",
    "np.random.uniform(low=-90, high=90)"
   ]
  },
  {
   "cell_type": "code",
   "execution_count": 17,
   "id": "418ddbab",
   "metadata": {},
   "outputs": [
    {
     "data": {
      "text/plain": [
       "array([-39.84465413, -81.7265548 ,  63.01626018, -56.60531054,\n",
       "       -83.86312472, -64.24243341,  50.06910236,  31.1315842 ,\n",
       "       -13.46881594, -33.33619173, -68.05377116,  87.38768114,\n",
       "       -59.16883213, -56.10661743,  64.38704131,  88.38801838,\n",
       "        17.31431985, -56.91835967, -58.85935506,  51.1470522 ,\n",
       "       -25.84207627,  -6.24769004,  -1.83548331,  40.88309863,\n",
       "       -39.50941765, -29.30203595, -33.711484  ,  19.24501871,\n",
       "        -8.80297692,  -1.49411271, -85.3025085 ,  70.1987555 ,\n",
       "       -50.35693986, -42.47346017,  31.76221102,  17.07375952,\n",
       "        26.61280688,  70.68169945, -38.60443911, -29.3969461 ,\n",
       "        68.84294123,   6.00806719,  69.14840025,  -7.02765932,\n",
       "        69.40154935,  84.58574046,  49.11191212, -81.85372878,\n",
       "         7.42156347,  -8.11026266])"
      ]
     },
     "execution_count": 17,
     "metadata": {},
     "output_type": "execute_result"
    }
   ],
   "source": [
    "np.random.uniform(-90.000, 90.000, size=50)"
   ]
  },
  {
   "cell_type": "code",
   "execution_count": 18,
   "id": "a9b4b920",
   "metadata": {},
   "outputs": [],
   "source": [
    "# Import timeit.\n",
    "import timeit"
   ]
  },
  {
   "cell_type": "code",
   "execution_count": 19,
   "id": "19fe8073",
   "metadata": {},
   "outputs": [
    {
     "name": "stdout",
     "output_type": "stream",
     "text": [
      "12.2 µs ± 309 ns per loop (mean ± std. dev. of 7 runs, 100000 loops each)\n"
     ]
    }
   ],
   "source": [
    "%timeit np.random.uniform(-90.000, 90.000, size=1500)"
   ]
  },
  {
   "cell_type": "code",
   "execution_count": 20,
   "id": "e9b9c172",
   "metadata": {},
   "outputs": [
    {
     "name": "stdout",
     "output_type": "stream",
     "text": [
      "1.45 ms ± 15.4 µs per loop (mean ± std. dev. of 7 runs, 1000 loops each)\n"
     ]
    }
   ],
   "source": [
    "def latitudes(size):\n",
    "    latitudes = []\n",
    "    x = 0\n",
    "    while x < (size):\n",
    "        random_lat = random.randint(-90, 90) + random.random()\n",
    "        latitudes.append(random_lat)\n",
    "        x += 1\n",
    "    return latitudes\n",
    "# Call the function with 1500.\n",
    "%timeit latitudes(1500)"
   ]
  },
  {
   "cell_type": "code",
   "execution_count": null,
   "id": "207ef019",
   "metadata": {},
   "outputs": [],
   "source": []
  }
 ],
 "metadata": {
  "kernelspec": {
   "display_name": "PythonData",
   "language": "python",
   "name": "pythondata"
  },
  "language_info": {
   "codemirror_mode": {
    "name": "ipython",
    "version": 3
   },
   "file_extension": ".py",
   "mimetype": "text/x-python",
   "name": "python",
   "nbconvert_exporter": "python",
   "pygments_lexer": "ipython3",
   "version": "3.8.8"
  }
 },
 "nbformat": 4,
 "nbformat_minor": 5
}
